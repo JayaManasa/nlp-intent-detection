{
 "cells": [
  {
   "cell_type": "markdown",
   "source": [
    "# loading csv file and Data Preparation"
   ],
   "metadata": {
    "collapsed": false
   },
   "id": "80bb84136ce77cf3"
  },
  {
   "cell_type": "code",
   "execution_count": 22,
   "id": "initial_id",
   "metadata": {
    "collapsed": true,
    "ExecuteTime": {
     "end_time": "2025-01-12T14:31:16.115042996Z",
     "start_time": "2025-01-12T14:31:16.069844833Z"
    }
   },
   "outputs": [
    {
     "name": "stdout",
     "output_type": "stream",
     "text": [
      "                                        sentence,label  \\\n",
      "0                     You guys provide EMI option?,EMI   \n",
      "1    Do you offer Zero Percent EMI payment options?...   \n",
      "2                                          0% EMI.,EMI   \n",
      "3                                              EMI,EMI   \n",
      "4                            I want in installment,EMI   \n",
      "..                                                 ...   \n",
      "323          May I please know about the offers,OFFERS   \n",
      "324                            Available offers,OFFERS   \n",
      "325                          Is offer available,OFFERS   \n",
      "326                  Want to know the discount ,OFFERS   \n",
      "327             Tell me about the latest offers,OFFERS   \n",
      "\n",
      "                                           sentence   label  \n",
      "0                      You guys provide EMI option?     EMI  \n",
      "1    Do you offer Zero Percent EMI payment options?     EMI  \n",
      "2                                           0% EMI.     EMI  \n",
      "3                                               EMI     EMI  \n",
      "4                             I want in installment     EMI  \n",
      "..                                              ...     ...  \n",
      "323              May I please know about the offers  OFFERS  \n",
      "324                                Available offers  OFFERS  \n",
      "325                              Is offer available  OFFERS  \n",
      "326                      Want to know the discount   OFFERS  \n",
      "327                 Tell me about the latest offers  OFFERS  \n",
      "\n",
      "[328 rows x 3 columns]\n",
      "0                        you guys provide emi option\n",
      "1      do you offer zero percent emi payment options\n",
      "2                                              0 emi\n",
      "3                                                emi\n",
      "4                              i want in installment\n",
      "                           ...                      \n",
      "323               may i please know about the offers\n",
      "324                                 available offers\n",
      "325                               is offer available\n",
      "326                        want to know the discount\n",
      "327                  tell me about the latest offers\n",
      "Name: clean_sentence, Length: 328, dtype: object\n"
     ]
    }
   ],
   "source": [
    "import pandas as pd\n",
    "import numpy as np\n",
    "df = pd.read_csv('sofmattress_train.csv', sep='\\t')\n",
    "df[['sentence', 'label']] = df.iloc[:, 0].str.split(',', expand=True)\n",
    "print(df)\n",
    "\n",
    "def preprocess_text(text):\n",
    "    text = str(text).lower()\n",
    "    text = re.sub(r'[^\\w\\s]', '', text)\n",
    "    text = ' '.join(text.split())\n",
    "    return text\n",
    "\n",
    "\n",
    "df['clean_sentence'] = df['sentence'].apply(preprocess_text)\n",
    "print(df['clean_sentence'])\n",
    "    "
   ]
  },
  {
   "cell_type": "markdown",
   "source": [
    "# Data Split, training and Evaluate"
   ],
   "metadata": {
    "collapsed": false
   },
   "id": "acdc1fd05a0fd9d9"
  },
  {
   "cell_type": "code",
   "execution_count": 16,
   "outputs": [
    {
     "name": "stdout",
     "output_type": "stream",
     "text": [
      "                       precision    recall  f1-score   support\n",
      "\n",
      "100_NIGHT_TRIAL_OFFER       1.00      0.75      0.86         4\n",
      "   ABOUT_SOF_MATTRESS       0.60      1.00      0.75         3\n",
      "         CANCEL_ORDER       0.67      1.00      0.80         2\n",
      "        CHECK_PINCODE       1.00      1.00      1.00         1\n",
      "                  COD       0.50      1.00      0.67         2\n",
      "           COMPARISON       0.50      1.00      0.67         1\n",
      "    DELAY_IN_DELIVERY       0.00      0.00      0.00         2\n",
      "         DISTRIBUTORS       0.75      0.75      0.75         8\n",
      "                  EMI       1.00      0.80      0.89         5\n",
      "        ERGO_FEATURES       1.00      0.75      0.86         4\n",
      "             LEAD_GEN       1.00      0.75      0.86         4\n",
      "        MATTRESS_COST       1.00      1.00      1.00         3\n",
      "               OFFERS       1.00      0.67      0.80         3\n",
      "         ORDER_STATUS       0.50      1.00      0.67         1\n",
      "       ORTHO_FEATURES       1.00      1.00      1.00         3\n",
      "              PILLOWS       1.00      1.00      1.00         3\n",
      "     PRODUCT_VARIANTS       1.00      1.00      1.00         2\n",
      "      RETURN_EXCHANGE       0.67      0.80      0.73         5\n",
      "   SIZE_CUSTOMIZATION       1.00      1.00      1.00         1\n",
      "             WARRANTY       1.00      1.00      1.00         5\n",
      "   WHAT_SIZE_TO_ORDER       0.67      0.50      0.57         4\n",
      "\n",
      "             accuracy                           0.82        66\n",
      "            macro avg       0.80      0.85      0.80        66\n",
      "         weighted avg       0.84      0.82      0.81        66\n"
     ]
    },
    {
     "name": "stderr",
     "output_type": "stream",
     "text": [
      "/home/manasa/Desktop/Code/intent-detection-nlp/nlpvenv/lib/python3.10/site-packages/sklearn/metrics/_classification.py:1565: UndefinedMetricWarning: Precision is ill-defined and being set to 0.0 in labels with no predicted samples. Use `zero_division` parameter to control this behavior.\n",
      "  _warn_prf(average, modifier, f\"{metric.capitalize()} is\", len(result))\n",
      "/home/manasa/Desktop/Code/intent-detection-nlp/nlpvenv/lib/python3.10/site-packages/sklearn/metrics/_classification.py:1565: UndefinedMetricWarning: Precision is ill-defined and being set to 0.0 in labels with no predicted samples. Use `zero_division` parameter to control this behavior.\n",
      "  _warn_prf(average, modifier, f\"{metric.capitalize()} is\", len(result))\n",
      "/home/manasa/Desktop/Code/intent-detection-nlp/nlpvenv/lib/python3.10/site-packages/sklearn/metrics/_classification.py:1565: UndefinedMetricWarning: Precision is ill-defined and being set to 0.0 in labels with no predicted samples. Use `zero_division` parameter to control this behavior.\n",
      "  _warn_prf(average, modifier, f\"{metric.capitalize()} is\", len(result))\n"
     ]
    }
   ],
   "source": [
    "from sklearn.feature_extraction.text import TfidfVectorizer\n",
    "from sklearn.model_selection import train_test_split\n",
    "from sklearn.linear_model import LogisticRegression\n",
    "from sklearn.metrics import classification_report\n",
    "\n",
    "\n",
    "X = df['clean_sentence']\n",
    "y = df['label']\n",
    "\n",
    "\n",
    "vectorizer = TfidfVectorizer()\n",
    "X_vectorized = vectorizer.fit_transform(X)\n",
    "X_train, X_test, y_train, y_test = train_test_split(X, y, test_size=0.2, random_state=42)\n",
    "#split\n",
    "X_train, X_test, y_train, y_test = train_test_split(\n",
    "    X_vectorized, y, test_size=0.2, random_state=42\n",
    ")\n",
    "\n",
    "model = LogisticRegression(\n",
    "    max_iter=1000,\n",
    "    class_weight='balanced'\n",
    ")\n",
    "model.fit(X_train, y_train)\n",
    "\n",
    "# Evaluate model\n",
    "y_pred = model.predict(X_test)\n",
    "print(classification_report(y_test, y_pred))\n",
    "\n"
   ],
   "metadata": {
    "collapsed": false,
    "ExecuteTime": {
     "end_time": "2025-01-12T13:13:52.830518486Z",
     "start_time": "2025-01-12T13:13:52.743537307Z"
    }
   },
   "id": "46e6e905984600e5"
  },
  {
   "cell_type": "markdown",
   "source": [
    "# Model Testing"
   ],
   "metadata": {
    "collapsed": false
   },
   "id": "345ca9f058b5c875"
  },
  {
   "cell_type": "code",
   "execution_count": 17,
   "outputs": [
    {
     "name": "stdout",
     "output_type": "stream",
     "text": [
      "\n",
      "Predictions for test examples:\n",
      "--------------------------------------------------\n",
      "Text: Do you have EMI options?\n",
      "Predicted Intent: EMI\n",
      "Confidence: 16.53%\n",
      "--------------------------------------------------\n",
      "Text: What are the current offers?\n",
      "Predicted Intent: OFFERS\n",
      "Confidence: 22.37%\n",
      "--------------------------------------------------\n",
      "Text: I want to know about warranty\n",
      "Predicted Intent: WARRANTY\n",
      "Confidence: 23.81%\n",
      "--------------------------------------------------\n",
      "Text: How can I cancel my order?\n",
      "Predicted Intent: CANCEL_ORDER\n",
      "Confidence: 43.80%\n",
      "--------------------------------------------------\n",
      "Text: What is the cost of mattress?\n",
      "Predicted Intent: MATTRESS_COST\n",
      "Confidence: 26.04%\n",
      "--------------------------------------------------\n"
     ]
    }
   ],
   "source": [
    "# Function to predict single input\n",
    "def predict_intent(text, model, vectorizer):\n",
    "    # Clean the input text using the same cleaning function used during training\n",
    "    cleaned_text = preprocess_text(text)\n",
    "    \n",
    "    # Transform the text using the same vectorizer\n",
    "    text_vectorized = vectorizer.transform([cleaned_text])\n",
    "    \n",
    "    # Get prediction\n",
    "    prediction = model.predict(text_vectorized)\n",
    "    \n",
    "    # Get prediction probabilities\n",
    "    probabilities = model.predict_proba(text_vectorized)\n",
    "    confidence = np.max(probabilities) * 100\n",
    "    \n",
    "    return prediction[0], confidence\n",
    "\n",
    "# Test with different examples\n",
    "test_examples = [\n",
    "    \"Do you have EMI options?\",\n",
    "    \"What are the current offers?\",\n",
    "    \"I want to know about warranty\",\n",
    "    \"How can I cancel my order?\",\n",
    "    \"What is the cost of mattress?\"\n",
    "]\n",
    "\n",
    "# Print predictions\n",
    "print(\"\\nPredictions for test examples:\")\n",
    "print(\"-\" * 50)\n",
    "for text in test_examples:\n",
    "    intent, confidence = predict_intent(text, model, vectorizer)\n",
    "    print(f\"Text: {text}\")\n",
    "    print(f\"Predicted Intent: {intent}\")\n",
    "    print(f\"Confidence: {confidence:.2f}%\")\n",
    "    print(\"-\" * 50)\n",
    "\n",
    "# Interactive testing\n",
    "while True:\n",
    "    user_input = input(\"\\nEnter your text (or 'quit' to exit): \")\n",
    "    if user_input.lower() == 'quit':\n",
    "        break\n",
    "    \n",
    "    intent, confidence = predict_intent(user_input, model, vectorizer)\n",
    "    print(f\"Predicted Intent: {intent}\")\n",
    "    print(f\"Confidence: {confidence:.2f}%\")\n"
   ],
   "metadata": {
    "collapsed": false,
    "ExecuteTime": {
     "end_time": "2025-01-12T13:14:03.343818552Z",
     "start_time": "2025-01-12T13:14:00.905624119Z"
    }
   },
   "id": "5cfbfb66e2eadb7b"
  },
  {
   "cell_type": "code",
   "execution_count": 5,
   "outputs": [
    {
     "name": "stdout",
     "output_type": "stream",
     "text": [
      "['EMI' 'COD' 'ORTHO_FEATURES' 'ERGO_FEATURES' 'COMPARISON' 'WARRANTY'\n",
      " '100_NIGHT_TRIAL_OFFER' 'SIZE_CUSTOMIZATION' 'WHAT_SIZE_TO_ORDER'\n",
      " 'LEAD_GEN' 'CHECK_PINCODE' 'DISTRIBUTORS' 'MATTRESS_COST'\n",
      " 'PRODUCT_VARIANTS' 'ABOUT_SOF_MATTRESS' 'DELAY_IN_DELIVERY'\n",
      " 'ORDER_STATUS' 'RETURN_EXCHANGE' 'CANCEL_ORDER' 'PILLOWS' 'OFFERS']\n"
     ]
    }
   ],
   "source": [
    "# Get unique values from column E\n",
    "unique_values = df['label'].unique()\n",
    "\n",
    "# Display the unique values\n",
    "print(unique_values)"
   ],
   "metadata": {
    "collapsed": false,
    "ExecuteTime": {
     "end_time": "2025-01-12T10:04:57.115365854Z",
     "start_time": "2025-01-12T10:04:57.109120120Z"
    }
   },
   "id": "2c46aae908e14b0e"
  },
  {
   "cell_type": "markdown",
   "source": [
    "# Retry Logistic Regression with augmented data from llm"
   ],
   "metadata": {
    "collapsed": false
   },
   "id": "8b148deae94db48"
  },
  {
   "cell_type": "code",
   "execution_count": 6,
   "outputs": [
    {
     "name": "stdout",
     "output_type": "stream",
     "text": [
      "                            sentence   label\n",
      "0        Do you provide EMI options?     EMI\n",
      "1    What are the EMI payment terms?     EMI\n",
      "2    Is zero interest EMI available?     EMI\n",
      "3              EMI duration options?     EMI\n",
      "4       Monthly EMI payment details?     EMI\n",
      "..                               ...     ...\n",
      "310              Promotional offers?  OFFERS\n",
      "311           Any schemes available?  OFFERS\n",
      "312                   Current deals?  OFFERS\n",
      "313                Discount seasons?  OFFERS\n",
      "314            Offer period details?  OFFERS\n",
      "\n",
      "[315 rows x 2 columns]\n"
     ]
    }
   ],
   "source": [
    "df_augmented = pd.read_csv('augmented_training_data.csv')\n",
    "\n",
    "print(df_augmented)"
   ],
   "metadata": {
    "collapsed": false,
    "ExecuteTime": {
     "end_time": "2025-01-12T13:11:00.538763450Z",
     "start_time": "2025-01-12T13:11:00.530817625Z"
    }
   },
   "id": "1cb379a9c71b54e1"
  },
  {
   "cell_type": "code",
   "execution_count": 9,
   "outputs": [
    {
     "name": "stdout",
     "output_type": "stream",
     "text": [
      "                                           sentence   label\n",
      "0                      You guys provide EMI option?     EMI\n",
      "1    Do you offer Zero Percent EMI payment options?     EMI\n",
      "2                                           0% EMI.     EMI\n",
      "3                                               EMI     EMI\n",
      "4                             I want in installment     EMI\n",
      "..                                              ...     ...\n",
      "323              May I please know about the offers  OFFERS\n",
      "324                                Available offers  OFFERS\n",
      "325                              Is offer available  OFFERS\n",
      "326                      Want to know the discount   OFFERS\n",
      "327                 Tell me about the latest offers  OFFERS\n",
      "\n",
      "[328 rows x 2 columns]\n"
     ]
    }
   ],
   "source": [
    "df_original = pd.read_csv('sofmattress_train.csv')\n",
    "\n",
    "print(df_original)"
   ],
   "metadata": {
    "collapsed": false,
    "ExecuteTime": {
     "end_time": "2025-01-12T13:12:07.559494756Z",
     "start_time": "2025-01-12T13:12:07.552720884Z"
    }
   },
   "id": "b34ef6d9b0e6e6d4"
  },
  {
   "cell_type": "markdown",
   "source": [
    "# Combine datasets both datasets"
   ],
   "metadata": {
    "collapsed": false
   },
   "id": "e33b46119cc06e5d"
  },
  {
   "cell_type": "code",
   "execution_count": 11,
   "outputs": [
    {
     "name": "stdout",
     "output_type": "stream",
     "text": [
      "                                           sentence   label\n",
      "0                      You guys provide EMI option?     EMI\n",
      "1    Do you offer Zero Percent EMI payment options?     EMI\n",
      "2                                           0% EMI.     EMI\n",
      "3                                               EMI     EMI\n",
      "4                             I want in installment     EMI\n",
      "..                                              ...     ...\n",
      "638                             Promotional offers?  OFFERS\n",
      "639                          Any schemes available?  OFFERS\n",
      "640                                  Current deals?  OFFERS\n",
      "641                               Discount seasons?  OFFERS\n",
      "642                           Offer period details?  OFFERS\n",
      "\n",
      "[643 rows x 2 columns]\n"
     ]
    }
   ],
   "source": [
    "df_combined = pd.concat([df_original, df_augmented], ignore_index=True)\n",
    "print(df_combined)"
   ],
   "metadata": {
    "collapsed": false,
    "ExecuteTime": {
     "end_time": "2025-01-12T13:12:49.918911171Z",
     "start_time": "2025-01-12T13:12:49.870931884Z"
    }
   },
   "id": "789112ea37bd64d"
  },
  {
   "cell_type": "markdown",
   "source": [
    "# **Logistic Regression results**"
   ],
   "metadata": {
    "collapsed": false
   },
   "id": "d845ed8656292e3"
  },
  {
   "cell_type": "code",
   "execution_count": 18,
   "outputs": [
    {
     "name": "stdout",
     "output_type": "stream",
     "text": [
      "                       precision    recall  f1-score   support\n",
      "\n",
      "100_NIGHT_TRIAL_OFFER       1.00      1.00      1.00         5\n",
      "   ABOUT_SOF_MATTRESS       0.75      0.75      0.75         4\n",
      "         CANCEL_ORDER       1.00      1.00      1.00         8\n",
      "        CHECK_PINCODE       1.00      1.00      1.00         4\n",
      "                  COD       1.00      1.00      1.00         3\n",
      "           COMPARISON       0.75      0.75      0.75         4\n",
      "    DELAY_IN_DELIVERY       0.75      1.00      0.86         3\n",
      "         DISTRIBUTORS       0.73      1.00      0.84         8\n",
      "                  EMI       1.00      1.00      1.00         6\n",
      "        ERGO_FEATURES       0.71      0.71      0.71         7\n",
      "             LEAD_GEN       0.60      0.50      0.55         6\n",
      "        MATTRESS_COST       1.00      0.90      0.95        10\n",
      "               OFFERS       1.00      1.00      1.00         9\n",
      "         ORDER_STATUS       0.88      0.78      0.82         9\n",
      "       ORTHO_FEATURES       0.83      0.71      0.77         7\n",
      "              PILLOWS       1.00      0.80      0.89         5\n",
      "     PRODUCT_VARIANTS       0.71      0.71      0.71         7\n",
      "      RETURN_EXCHANGE       1.00      0.80      0.89         5\n",
      "   SIZE_CUSTOMIZATION       0.80      0.57      0.67         7\n",
      "             WARRANTY       0.82      1.00      0.90         9\n",
      "   WHAT_SIZE_TO_ORDER       0.40      0.67      0.50         3\n",
      "\n",
      "             accuracy                           0.84       129\n",
      "            macro avg       0.84      0.84      0.84       129\n",
      "         weighted avg       0.86      0.84      0.85       129\n"
     ]
    }
   ],
   "source": [
    "# Preprocess text\n",
    "def preprocess_text(text):\n",
    "    text = str(text).lower()\n",
    "    text = re.sub(r'[^\\w\\s]', '', text)\n",
    "    text = ' '.join(text.split())\n",
    "    return text\n",
    "\n",
    "df_combined['clean_sentence'] = df_combined['sentence'].apply(preprocess_text)\n",
    "\n",
    "# Prepare for modeling\n",
    "X = df_combined['clean_sentence']\n",
    "y = df_combined['label']\n",
    "\n",
    "# TF-IDF Vectorization\n",
    "vectorizer = TfidfVectorizer()\n",
    "X_vectorized = vectorizer.fit_transform(X)\n",
    "\n",
    "# Split data\n",
    "X_train, X_test, y_train, y_test = train_test_split(\n",
    "    X_vectorized, y, test_size=0.2, random_state=42\n",
    ")\n",
    "\n",
    "# Train model\n",
    "model = LogisticRegression(\n",
    "    max_iter=1000,\n",
    "    class_weight='balanced'\n",
    ")\n",
    "model.fit(X_train, y_train)\n",
    "\n",
    "# Evaluate\n",
    "y_pred = model.predict(X_test)\n",
    "print(classification_report(y_test, y_pred))"
   ],
   "metadata": {
    "collapsed": false,
    "ExecuteTime": {
     "end_time": "2025-01-12T13:14:09.563414383Z",
     "start_time": "2025-01-12T13:14:09.530231165Z"
    }
   },
   "id": "764598da78dd9c89"
  },
  {
   "cell_type": "markdown",
   "source": [
    "# SVM and Random Forest model evaluation"
   ],
   "metadata": {
    "collapsed": false
   },
   "id": "65bf8a91c2646f42"
  },
  {
   "cell_type": "code",
   "execution_count": 21,
   "outputs": [
    {
     "name": "stdout",
     "output_type": "stream",
     "text": [
      "Random Forest Classification Report:\n",
      "                       precision    recall  f1-score   support\n",
      "\n",
      "100_NIGHT_TRIAL_OFFER       0.60      0.60      0.60         5\n",
      "   ABOUT_SOF_MATTRESS       0.40      0.50      0.44         4\n",
      "         CANCEL_ORDER       1.00      0.25      0.40         8\n",
      "        CHECK_PINCODE       0.25      0.25      0.25         4\n",
      "                  COD       0.50      0.33      0.40         3\n",
      "           COMPARISON       1.00      0.25      0.40         4\n",
      "    DELAY_IN_DELIVERY       0.40      0.67      0.50         3\n",
      "         DISTRIBUTORS       0.35      0.88      0.50         8\n",
      "                  EMI       0.80      0.67      0.73         6\n",
      "        ERGO_FEATURES       0.80      0.57      0.67         7\n",
      "             LEAD_GEN       0.67      0.67      0.67         6\n",
      "        MATTRESS_COST       0.46      0.60      0.52        10\n",
      "               OFFERS       0.86      0.67      0.75         9\n",
      "         ORDER_STATUS       0.50      0.44      0.47         9\n",
      "       ORTHO_FEATURES       0.67      0.57      0.62         7\n",
      "              PILLOWS       1.00      0.60      0.75         5\n",
      "     PRODUCT_VARIANTS       0.50      0.57      0.53         7\n",
      "      RETURN_EXCHANGE       0.57      0.80      0.67         5\n",
      "   SIZE_CUSTOMIZATION       1.00      0.43      0.60         7\n",
      "             WARRANTY       1.00      0.89      0.94         9\n",
      "   WHAT_SIZE_TO_ORDER       0.33      0.67      0.44         3\n",
      "\n",
      "             accuracy                           0.58       129\n",
      "            macro avg       0.65      0.57      0.56       129\n",
      "         weighted avg       0.68      0.58      0.59       129\n",
      "\n",
      "\n",
      "SVM Classification Report:\n",
      "                       precision    recall  f1-score   support\n",
      "\n",
      "100_NIGHT_TRIAL_OFFER       0.75      0.60      0.67         5\n",
      "   ABOUT_SOF_MATTRESS       0.30      0.75      0.43         4\n",
      "         CANCEL_ORDER       0.67      0.25      0.36         8\n",
      "        CHECK_PINCODE       0.29      0.50      0.36         4\n",
      "                  COD       0.50      0.33      0.40         3\n",
      "           COMPARISON       1.00      0.75      0.86         4\n",
      "    DELAY_IN_DELIVERY       1.00      0.67      0.80         3\n",
      "         DISTRIBUTORS       0.50      0.75      0.60         8\n",
      "                  EMI       1.00      0.67      0.80         6\n",
      "        ERGO_FEATURES       1.00      0.57      0.73         7\n",
      "             LEAD_GEN       0.50      0.67      0.57         6\n",
      "        MATTRESS_COST       0.50      0.60      0.55        10\n",
      "               OFFERS       0.86      0.67      0.75         9\n",
      "         ORDER_STATUS       0.56      0.56      0.56         9\n",
      "       ORTHO_FEATURES       0.50      0.43      0.46         7\n",
      "              PILLOWS       0.60      0.60      0.60         5\n",
      "     PRODUCT_VARIANTS       0.88      1.00      0.93         7\n",
      "      RETURN_EXCHANGE       0.67      0.80      0.73         5\n",
      "   SIZE_CUSTOMIZATION       1.00      0.43      0.60         7\n",
      "             WARRANTY       1.00      0.89      0.94         9\n",
      "   WHAT_SIZE_TO_ORDER       0.33      0.67      0.44         3\n",
      "\n",
      "             accuracy                           0.63       129\n",
      "            macro avg       0.69      0.63      0.63       129\n",
      "         weighted avg       0.70      0.63      0.64       129\n",
      "\n",
      "\n",
      "Random Forest Predictions:\n",
      "--------------------------------------------------\n",
      "Text: Do you have EMI options?\n",
      "Predicted Intent: EMI\n",
      "Confidence: 65.50%\n",
      "--------------------------------------------------\n",
      "Text: What are the current offers?\n",
      "Predicted Intent: OFFERS\n",
      "Confidence: 57.00%\n",
      "--------------------------------------------------\n",
      "Text: I want to know about warranty\n",
      "Predicted Intent: WARRANTY\n",
      "Confidence: 86.00%\n",
      "--------------------------------------------------\n",
      "Text: How can I cancel my order?\n",
      "Predicted Intent: CANCEL_ORDER\n",
      "Confidence: 61.00%\n",
      "--------------------------------------------------\n",
      "Text: What is the cost of mattress?\n",
      "Predicted Intent: MATTRESS_COST\n",
      "Confidence: 52.50%\n",
      "--------------------------------------------------\n",
      "\n",
      "SVM Predictions:\n",
      "--------------------------------------------------\n",
      "Text: Do you have EMI options?\n",
      "Predicted Intent: EMI\n",
      "Confidence: 53.39%\n",
      "--------------------------------------------------\n",
      "Text: What are the current offers?\n",
      "Predicted Intent: OFFERS\n",
      "Confidence: 49.78%\n",
      "--------------------------------------------------\n",
      "Text: I want to know about warranty\n",
      "Predicted Intent: WARRANTY\n",
      "Confidence: 67.59%\n",
      "--------------------------------------------------\n",
      "Text: How can I cancel my order?\n",
      "Predicted Intent: CANCEL_ORDER\n",
      "Confidence: 46.98%\n",
      "--------------------------------------------------\n",
      "Text: What is the cost of mattress?\n",
      "Predicted Intent: MATTRESS_COST\n",
      "Confidence: 77.14%\n",
      "--------------------------------------------------\n"
     ]
    }
   ],
   "source": [
    "from sklearn.ensemble import RandomForestClassifier\n",
    "from sklearn.svm import SVC\n",
    "from sklearn.model_selection import train_test_split\n",
    "from sklearn.metrics import classification_report\n",
    "from sklearn.feature_extraction.text import TfidfVectorizer\n",
    "import pandas as pd\n",
    "import numpy as np\n",
    "import re\n",
    "\n",
    "# Preprocess text\n",
    "def preprocess_text(text):\n",
    "    text = str(text).lower()\n",
    "    text = re.sub(r'[^\\w\\s]', '', text)\n",
    "    return ' '.join(text.split())\n",
    "\n",
    "# Load and preprocess your data\n",
    "df = pd.DataFrame(df_combined)  # Replace with your data loading method\n",
    "df['clean_sentence'] = df['sentence'].apply(preprocess_text)\n",
    "\n",
    "# Prepare features\n",
    "vectorizer = TfidfVectorizer()\n",
    "X = vectorizer.fit_transform(df['clean_sentence'])\n",
    "y = df['label']\n",
    "\n",
    "# Split data\n",
    "X_train, X_test, y_train, y_test = train_test_split(\n",
    "    X, y, test_size=0.2, random_state=42\n",
    ")\n",
    "\n",
    "# Random Forest Implementation\n",
    "rf_model = RandomForestClassifier(\n",
    "    n_estimators=200,\n",
    "    max_depth=None,\n",
    "    min_samples_split=2,\n",
    "    random_state=42,\n",
    "    class_weight='balanced',\n",
    "    n_jobs=-1\n",
    ")\n",
    "rf_model.fit(X_train, y_train)\n",
    "y_pred_rf = rf_model.predict(X_test)\n",
    "\n",
    "# SVM Implementation\n",
    "svm_model = SVC(\n",
    "    kernel='linear',\n",
    "    probability=True,\n",
    "    class_weight='balanced',\n",
    "    random_state=42,\n",
    "    C=1.0\n",
    ")\n",
    "svm_model.fit(X_train, y_train)\n",
    "y_pred_svm = svm_model.predict(X_test)\n",
    "\n",
    "# Prediction function for both models\n",
    "def predict_intent(text, model, vectorizer):\n",
    "    cleaned_text = preprocess_text(text)\n",
    "    text_vectorized = vectorizer.transform([cleaned_text])\n",
    "    prediction = model.predict(text_vectorized)\n",
    "    probabilities = model.predict_proba(text_vectorized)\n",
    "    confidence = np.max(probabilities) * 100\n",
    "    return prediction[0], confidence\n",
    "\n",
    "# Print classification reports\n",
    "print(\"Random Forest Classification Report:\")\n",
    "print(classification_report(y_test, y_pred_rf))\n",
    "print(\"\\nSVM Classification Report:\")\n",
    "print(classification_report(y_test, y_pred_svm))\n",
    "\n",
    "# Test examples\n",
    "test_examples = [\n",
    "    \"Do you have EMI options?\",\n",
    "    \"What are the current offers?\",\n",
    "    \"I want to know about warranty\",\n",
    "    \"How can I cancel my order?\",\n",
    "    \"What is the cost of mattress?\"\n",
    "]\n",
    "\n",
    "# Test both models\n",
    "print(\"\\nRandom Forest Predictions:\")\n",
    "print(\"-\" * 50)\n",
    "for text in test_examples:\n",
    "    intent, confidence = predict_intent(text, rf_model, vectorizer)\n",
    "    print(f\"Text: {text}\")\n",
    "    print(f\"Predicted Intent: {intent}\")\n",
    "    print(f\"Confidence: {confidence:.2f}%\")\n",
    "    print(\"-\" * 50)\n",
    "\n",
    "print(\"\\nSVM Predictions:\")\n",
    "print(\"-\" * 50)\n",
    "for text in test_examples:\n",
    "    intent, confidence = predict_intent(text, svm_model, vectorizer)\n",
    "    print(f\"Text: {text}\")\n",
    "    print(f\"Predicted Intent: {intent}\")\n",
    "    print(f\"Confidence: {confidence:.2f}%\")\n",
    "    print(\"-\" * 50)\n"
   ],
   "metadata": {
    "collapsed": false,
    "ExecuteTime": {
     "end_time": "2025-01-12T13:31:03.805546514Z",
     "start_time": "2025-01-12T13:31:02.802054352Z"
    }
   },
   "id": "9dc75304c3bd01d"
  }
 ],
 "metadata": {
  "kernelspec": {
   "display_name": "Python 3",
   "language": "python",
   "name": "python3"
  },
  "language_info": {
   "codemirror_mode": {
    "name": "ipython",
    "version": 2
   },
   "file_extension": ".py",
   "mimetype": "text/x-python",
   "name": "python",
   "nbconvert_exporter": "python",
   "pygments_lexer": "ipython2",
   "version": "2.7.6"
  }
 },
 "nbformat": 4,
 "nbformat_minor": 5
}
